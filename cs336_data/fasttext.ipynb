{
 "cells": [
  {
   "cell_type": "code",
   "execution_count": 1,
   "metadata": {},
   "outputs": [],
   "source": [
    "import fasttext"
   ]
  },
  {
   "cell_type": "code",
   "execution_count": 2,
   "metadata": {},
   "outputs": [],
   "source": [
    "import numpy as np\n",
    "data = np.fromfile(\n",
    "\"/data/paloma/tokenized_paloma_c4_100_domains_validation.bin\",\n",
    "dtype=np.uint16\n",
    ")"
   ]
  },
  {
   "cell_type": "code",
   "execution_count": 5,
   "metadata": {},
   "outputs": [],
   "source": [
    "from transformers import AutoTokenizer\n",
    "tokenizer = AutoTokenizer.from_pretrained(\"gpt2\")\n",
    "decoded_paloma = tokenizer.decode(data)\n",
    "# save to file\n",
    "with open(\"decoded_paloma.txt\", \"w\") as f:\n",
    "    f.write(decoded_paloma)"
   ]
  },
  {
   "cell_type": "code",
   "execution_count": 13,
   "metadata": {},
   "outputs": [
    {
     "data": {
      "text/plain": [
       "14059"
      ]
     },
     "execution_count": 13,
     "metadata": {},
     "output_type": "execute_result"
    }
   ],
   "source": [
    "# clean newlines, whitespace, and empty strings from decoded_paloma\n",
    "docs = [doc.strip().replace(\"\\n\", \" \") for doc in decoded_paloma.split(\"<|endoftext|>\") if doc.strip()]\n",
    "len(docs)"
   ]
  },
  {
   "cell_type": "markdown",
   "metadata": {},
   "source": [
    "# Train a Paloma Classifier"
   ]
  },
  {
   "cell_type": "code",
   "execution_count": 14,
   "metadata": {},
   "outputs": [],
   "source": [
    "# write fasttext file\n",
    "with open(\"fasttext_paloma.txt\", \"w\") as f:\n",
    "    for doc in docs:\n",
    "        f.write(f\"__label__paloma {doc}\\n\")"
   ]
  },
  {
   "cell_type": "code",
   "execution_count": 15,
   "metadata": {},
   "outputs": [],
   "source": [
    "import random\n",
    "from collections import Counter\n",
    "from typing import List, Tuple\n",
    "\n",
    "def read_fasttext_file(filepath: str) -> List[str]:\n",
    "    \"\"\"Read FastText formatted file and return list of lines.\"\"\"\n",
    "    with open(filepath, 'r', encoding='utf-8') as f:\n",
    "        return [line.strip() for line in f if line.strip()]\n",
    "\n",
    "def extract_label(line: str) -> str:\n",
    "    \"\"\"Extract label from FastText formatted line (assumes __label__xxx format).\"\"\"\n",
    "    return line.split()[0]\n",
    "\n",
    "def balance_data(data: List[str]) -> List[str]:\n",
    "    \"\"\"Balance the dataset by undersampling to match the minority class.\"\"\"\n",
    "    # group lines by label\n",
    "    label_groups = {}\n",
    "    for line in data:\n",
    "        label = extract_label(line)\n",
    "        if label not in label_groups:\n",
    "            label_groups[label] = []\n",
    "        label_groups[label].append(line)\n",
    "    \n",
    "    # find minimum class size\n",
    "    min_size = min(len(group) for group in label_groups.values())\n",
    "    \n",
    "    print(f\"Original distribution: {[(label, len(group)) for label, group in label_groups.items()]}\")\n",
    "    print(f\"Balancing to {min_size} samples per class\")\n",
    "    \n",
    "    # sample min_size examples from each class\n",
    "    balanced_data = []\n",
    "    for label, group in label_groups.items():\n",
    "        balanced_data.extend(random.sample(group, min_size))\n",
    "    \n",
    "    return balanced_data\n",
    "\n",
    "def shuffle_and_split_fasttext(file1_path: str, file2_path: str, \n",
    "                              train_split: float = 0.8, \n",
    "                              balance: bool = True,\n",
    "                              output_train: str = 'train.txt',\n",
    "                              output_test: str = 'test.txt',\n",
    "                              random_seed: int = 42) -> None:\n",
    "    \"\"\"\n",
    "    process two fasttext files: combine, shuffle, balance, and split.\n",
    "    \n",
    "    Args:\n",
    "        file1_path: Path to first FastText file\n",
    "        file2_path: Path to second FastText file  \n",
    "        train_split: Fraction for training set (0.0 to 1.0)\n",
    "        balance: Whether to balance classes by undersampling\n",
    "        output_train: Output path for training set\n",
    "        output_test: Output path for test set\n",
    "        random_seed: Random seed for reproducibility\n",
    "    \"\"\"\n",
    "    \n",
    "    # set random seed for reproducibility\n",
    "    random.seed(random_seed)\n",
    "    \n",
    "    # read both files\n",
    "    print(\"reading files...\")\n",
    "    data1 = read_fasttext_file(file1_path)\n",
    "    data2 = read_fasttext_file(file2_path)\n",
    "    \n",
    "    # combine data\n",
    "    all_data = data1 + data2\n",
    "    print(f\"combined {len(data1)} + {len(data2)} = {len(all_data)} samples\")\n",
    "    \n",
    "    # show original distribution\n",
    "    labels = [extract_label(line) for line in all_data]\n",
    "    print(f\"label distribution: {Counter(labels)}\")\n",
    "\n",
    "    # rebalance classes\n",
    "    if balance:\n",
    "        all_data = balance_data(all_data)\n",
    "        labels = [extract_label(line) for line in all_data]\n",
    "        print(f\"Balanced distribution: {Counter(labels)}\")\n",
    "    \n",
    "    # shuffle the combined data\n",
    "    random.shuffle(all_data)\n",
    "    print(\"data shuffled\")\n",
    "    \n",
    "    # split into train/test\n",
    "    split_idx = int(len(all_data) * train_split)\n",
    "    train_data = all_data[:split_idx]\n",
    "    test_data = all_data[split_idx:]\n",
    "    \n",
    "    print(f\"split: {len(train_data)} train, {len(test_data)} test\")\n",
    "    \n",
    "    # check distribution in splits\n",
    "    train_labels = [extract_label(line) for line in train_data]\n",
    "    test_labels = [extract_label(line) for line in test_data]\n",
    "    print(f\"train distribution: {Counter(train_labels)}\")\n",
    "    print(f\"test distribution: {Counter(test_labels)}\")\n",
    "    \n",
    "    # write output files\n",
    "    with open(output_train, 'w', encoding='utf-8') as f:\n",
    "        for line in train_data:\n",
    "            f.write(line + '\\n')\n",
    "    \n",
    "    with open(output_test, 'w', encoding='utf-8') as f:\n",
    "        for line in test_data:\n",
    "            f.write(line + '\\n')\n",
    "    \n",
    "    print(f\"Files saved: {output_train}, {output_test}\")"
   ]
  },
  {
   "cell_type": "code",
   "execution_count": 17,
   "metadata": {},
   "outputs": [
    {
     "name": "stdout",
     "output_type": "stream",
     "text": [
      "reading files...\n",
      "combined 14059 + 20000 = 34059 samples\n",
      "label distribution: Counter({'__label__low-quality': 20000, '__label__paloma': 14059})\n",
      "Original distribution: [('__label__paloma', 14059), ('__label__low-quality', 20000)]\n",
      "Balancing to 14059 samples per class\n",
      "Balanced distribution: Counter({'__label__paloma': 14059, '__label__low-quality': 14059})\n",
      "data shuffled\n",
      "split: 25306 train, 2812 test\n",
      "train distribution: Counter({'__label__paloma': 12676, '__label__low-quality': 12630})\n",
      "test distribution: Counter({'__label__low-quality': 1429, '__label__paloma': 1383})\n",
      "Files saved: paloma.train, paloma.test\n"
     ]
    }
   ],
   "source": [
    "shuffle_and_split_fasttext(\n",
    "        file1_path='fasttext_paloma.txt',\n",
    "        file2_path='negative_data.txt',\n",
    "        train_split=0.9,\n",
    "        balance=True,\n",
    "        output_train='paloma.train',\n",
    "        output_test='paloma.test',\n",
    "        random_seed=42\n",
    "    )"
   ]
  },
  {
   "cell_type": "code",
   "execution_count": 18,
   "metadata": {},
   "outputs": [
    {
     "name": "stderr",
     "output_type": "stream",
     "text": [
      "Progress: 100.0% Trials:    9 Best score:  0.992532 ETA:   0h 0m 0s\n",
      "Training again with best arguments\n",
      "Read 18M words\n",
      "Number of words:  1768055\n",
      "Number of labels: 2\n",
      "Progress: 100.0% words/sec/thread:  557501 lr:  0.000000 avg.loss:  0.010986 ETA:   0h 0m 0s\n"
     ]
    }
   ],
   "source": [
    "model = fasttext.train_supervised(input='paloma.train', autotuneValidationFile='paloma.test')"
   ]
  },
  {
   "cell_type": "code",
   "execution_count": 19,
   "metadata": {},
   "outputs": [],
   "source": [
    "model.save_model(\"paloma_classifier.bin\")"
   ]
  },
  {
   "cell_type": "code",
   "execution_count": 57,
   "metadata": {},
   "outputs": [],
   "source": [
    "positive_test = read_fasttext_file(\"positive_data.txt\")"
   ]
  },
  {
   "cell_type": "code",
   "execution_count": 58,
   "metadata": {},
   "outputs": [
    {
     "name": "stderr",
     "output_type": "stream",
     "text": [
      "/tmp/ipykernel_3384389/2847972384.py:2: DeprecationWarning: Conversion of an array with ndim > 0 to a scalar is deprecated, and will error in future. Ensure you extract a single element from your array before performing this operation. (Deprecated NumPy 1.25.)\n",
      "  vals = [float(val) for val in vals]\n"
     ]
    }
   ],
   "source": [
    "labels, vals = model.predict(positive_test)\n",
    "vals = [float(val) for val in vals]"
   ]
  },
  {
   "cell_type": "code",
   "execution_count": 59,
   "metadata": {},
   "outputs": [],
   "source": [
    "import matplotlib.pyplot as plt"
   ]
  },
  {
   "cell_type": "code",
   "execution_count": 60,
   "metadata": {},
   "outputs": [
    {
     "data": {
      "image/png": "[encoded data removed]",
      "text/plain": [
       "<Figure size 640x480 with 1 Axes>"
      ]
     },
     "metadata": {},
     "output_type": "display_data"
    }
   ],
   "source": [
    "plt.hist(vals, bins = 20)\n",
    "plt.show()"
   ]
  },
  {
   "cell_type": "code",
   "execution_count": 70,
   "metadata": {},
   "outputs": [
    {
     "data": {
      "text/plain": [
       "False"
      ]
     },
     "execution_count": 70,
     "metadata": {},
     "output_type": "execute_result"
    }
   ],
   "source": [
    "# look at examples of paloma-classified data\n",
    "for i, label in enumerate(labels):\n",
    "    if label[0] == '__label__paloma'"
   ]
  },
  {
   "cell_type": "code",
   "execution_count": null,
   "metadata": {},
   "outputs": [],
   "source": []
  }
 ],
 "metadata": {
  "kernelspec": {
   "display_name": "assignment4-data",
   "language": "python",
   "name": "python3"
  },
  "language_info": {
   "codemirror_mode": {
    "name": "ipython",
    "version": 3
   },
   "file_extension": ".py",
   "mimetype": "text/x-python",
   "name": "python",
   "nbconvert_exporter": "python",
   "pygments_lexer": "ipython3",
   "version": "3.13.3"
  }
 },
 "nbformat": 4,
 "nbformat_minor": 2
}
